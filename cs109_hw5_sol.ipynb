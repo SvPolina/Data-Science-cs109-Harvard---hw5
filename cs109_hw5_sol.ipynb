{
 "cells": [
  {
   "cell_type": "markdown",
   "metadata": {},
   "source": [
    "# CS 109A/STAT 121A/AC 209A/CSCI E-109A: Homework 5\n",
    "# Logistic Regression and PCA \n",
    "\n",
    "**Harvard University**<br/>\n",
    "**Fall 2017**<br/>\n",
    "**Instructors**: Pavlos Protopapas, Kevin Rader, Rahul Dave, Margo Levine\n",
    "\n",
    "---\n",
    "\n",
    "### INSTRUCTIONS\n",
    "\n",
    "- To submit your assignment follow the instructions given in canvas.\n",
    "- Restart the kernel and run the whole notebook again before you submit. \n",
    "- Do not include your name(s) in the notebook if you are submitting as a group. \n",
    "- If you submit individually and you have worked with someone, please include the name of your [one] partner below. \n",
    "\n",
    "---"
   ]
  },
  {
   "cell_type": "markdown",
   "metadata": {},
   "source": [
    "Your partner's name (if you submit separately):\n",
    "\n",
    "Enrollment Status (109A, 121A, 209A, or E109A):"
   ]
  },
  {
   "cell_type": "markdown",
   "metadata": {},
   "source": [
    "Import libraries:"
   ]
  },
  {
   "cell_type": "code",
   "execution_count": 597,
   "metadata": {
    "collapsed": true
   },
   "outputs": [],
   "source": [
    "import numpy as np\n",
    "import pandas as pd\n",
    "import math\n",
    "import matplotlib\n",
    "import matplotlib.pyplot as plt\n",
    "import statsmodels.api as sm\n",
    "from statsmodels.api import OLS\n",
    "from sklearn.decomposition import PCA\n",
    "from sklearn.linear_model import LogisticRegression\n",
    "from sklearn.linear_model import LogisticRegressionCV\n",
    "from sklearn.utils import resample\n",
    "from sklearn.model_selection import cross_val_score\n",
    "from sklearn.metrics import accuracy_score\n",
    "%matplotlib inline\n",
    "import seaborn.apionly as sns\n",
    "from sklearn.feature_selection import RFE\n",
    "import numpy as np\n",
    "import statsmodels.api as sm\n",
    "from sklearn.metrics import classification_report\n",
    "from sklearn.model_selection import KFold"
   ]
  },
  {
   "cell_type": "markdown",
   "metadata": {},
   "source": [
    "## Cancer Classification from Gene Expressions\n",
    "\n",
    "In this homework assignment, we will build a classification model to distinguish between two related classes of cancer, acute lymphoblastic leukemia (ALL) and acute myeloid leukemia (AML), using gene expression measurements. The data set is provided in the file `dataset_hw5.csv`. Each row in this file corresponds to a tumor tissue sample from a patient with one of the two forms of Leukemia. The first column contains the cancer type, with 0 indicating the ALL class and 1 indicating the AML class. Columns 2-7130 contain expression levels of 7129 genes recorded from each tissue sample. \n",
    "\n",
    "In the following parts, we will use logistic regression to build a classification model for this data set. We will also use principal components analysis (PCA) to visualize the data and to reduce its dimensions. \n",
    "\n"
   ]
  },
  {
   "cell_type": "markdown",
   "metadata": {},
   "source": [
    "## Part (a): Data Exploration\n",
    "\n",
    "1. First step is to  split  the observations into an approximate 50-50 train-test split.  Below is some code to do this for you (we want to make sure everyone has the same splits).\n",
    "\n",
    "2. Take a peak at your training set: you should notice the severe differences in the measurements from one gene to the next (some are negative, some hover around zero, and some are well into the thousands).  To account for these differences in scale and variability, normalize each predictor to vary between 0 and 1.\n",
    "\n",
    "3. Notice that the results training set contains more predictors than observations. Do you foresee a problem in fitting a classification model to such a data set?\n",
    "\n",
    "4. A convenient tool to visualize the gene expression data is a heat map. Arrange the rows of the training set so that the 'AML' rows are grouped together and the 'ALL' rows are together. Generate a heat map of the data with expression values from the following genes: \n",
    "`D49818_at`, `M23161_at`, `hum_alu_at`, `AFFX-PheX-5_at`, `M15990_at`. By observing the heat map, comment on which of these genes are useful in discriminating between the two classes.\n",
    "\n",
    "5. We can also visualize this data set in two dimensions using PCA. Find the top two principal components for the gene expression data. Generate a scatter plot using these principal components, highlighting the AML and ALL points in different colors. How well do the top two principal components discriminate between the two classes?\n",
    "\n"
   ]
  },
  {
   "cell_type": "code",
   "execution_count": 2,
   "metadata": {
    "collapsed": true
   },
   "outputs": [],
   "source": [
    "np.random.seed(9001)\n",
    "df = pd.read_csv('D:/Users/Home/Desktop/Open-U/Data Science/a-2017-master/HW/hw_5/dataset_hw5.csv')\n",
    "#df.head()"
   ]
  },
  {
   "cell_type": "code",
   "execution_count": 24,
   "metadata": {
    "collapsed": true
   },
   "outputs": [],
   "source": [
    "msk = np.random.rand(len(df)) < 0.5\n",
    "data_train = df[msk]\n",
    "data_test = df[~msk]\n",
    "data_train1 = df[msk]\n",
    "data_test1 = df[~msk]"
   ]
  },
  {
   "cell_type": "code",
   "execution_count": 42,
   "metadata": {
    "collapsed": true
   },
   "outputs": [],
   "source": [
    "cols=data_train.columns.tolist()\n",
    "cols_to_norm=cols[1:]"
   ]
  },
  {
   "cell_type": "code",
   "execution_count": 7,
   "metadata": {},
   "outputs": [
    {
     "data": {
      "text/plain": [
       "7129"
      ]
     },
     "execution_count": 7,
     "metadata": {},
     "output_type": "execute_result"
    }
   ],
   "source": [
    "len(cols_to_norm)"
   ]
  },
  {
   "cell_type": "code",
   "execution_count": 13,
   "metadata": {
    "collapsed": true
   },
   "outputs": [],
   "source": [
    "def nozmalization(df,cols_to_norm):\n",
    "     for i in range(0, len(cols_to_norm)):\n",
    "        mean=np.mean(df[cols_to_norm[i]])\n",
    "        SD=np.std(df[cols_to_norm[i]])\n",
    "        df[cols_to_norm[i]+'_norm']=df[cols_to_norm[i]].apply(lambda x:(x-mean)/SD) \n",
    "     return df"
   ]
  },
  {
   "cell_type": "code",
   "execution_count": 15,
   "metadata": {},
   "outputs": [
    {
     "name": "stderr",
     "output_type": "stream",
     "text": [
      "d:\\Users\\Home\\Anaconda3\\lib\\site-packages\\ipykernel_launcher.py:5: SettingWithCopyWarning: \n",
      "A value is trying to be set on a copy of a slice from a DataFrame.\n",
      "Try using .loc[row_indexer,col_indexer] = value instead\n",
      "\n",
      "See the caveats in the documentation: http://pandas.pydata.org/pandas-docs/stable/indexing.html#indexing-view-versus-copy\n",
      "  \"\"\"\n"
     ]
    }
   ],
   "source": [
    "df_train_norm=nozmalization(data_train,cols_to_norm)"
   ]
  },
  {
   "cell_type": "code",
   "execution_count": 14,
   "metadata": {},
   "outputs": [
    {
     "name": "stderr",
     "output_type": "stream",
     "text": [
      "d:\\Users\\Home\\Anaconda3\\lib\\site-packages\\ipykernel_launcher.py:5: SettingWithCopyWarning: \n",
      "A value is trying to be set on a copy of a slice from a DataFrame.\n",
      "Try using .loc[row_indexer,col_indexer] = value instead\n",
      "\n",
      "See the caveats in the documentation: http://pandas.pydata.org/pandas-docs/stable/indexing.html#indexing-view-versus-copy\n",
      "  \"\"\"\n"
     ]
    }
   ],
   "source": [
    "df_test_norm =nozmalization(data_test ,cols_to_norm)"
   ]
  },
  {
   "cell_type": "code",
   "execution_count": 98,
   "metadata": {},
   "outputs": [
    {
     "data": {
      "text/html": [
       "<div>\n",
       "<style>\n",
       "    .dataframe thead tr:only-child th {\n",
       "        text-align: right;\n",
       "    }\n",
       "\n",
       "    .dataframe thead th {\n",
       "        text-align: left;\n",
       "    }\n",
       "\n",
       "    .dataframe tbody tr th {\n",
       "        vertical-align: top;\n",
       "    }\n",
       "</style>\n",
       "<table border=\"1\" class=\"dataframe\">\n",
       "  <thead>\n",
       "    <tr style=\"text-align: right;\">\n",
       "      <th></th>\n",
       "      <th>Cancer_type</th>\n",
       "      <th>AFFX-BioB-5_at_norm</th>\n",
       "      <th>AFFX-BioB-M_at_norm</th>\n",
       "      <th>AFFX-BioB-3_at_norm</th>\n",
       "      <th>AFFX-BioC-5_at_norm</th>\n",
       "      <th>AFFX-BioC-3_at_norm</th>\n",
       "      <th>AFFX-BioDn-5_at_norm</th>\n",
       "      <th>AFFX-BioDn-3_at_norm</th>\n",
       "      <th>AFFX-CreX-5_at_norm</th>\n",
       "      <th>AFFX-CreX-3_at_norm</th>\n",
       "      <th>...</th>\n",
       "      <th>U48730_at_norm</th>\n",
       "      <th>U58516_at_norm</th>\n",
       "      <th>U73738_at_norm</th>\n",
       "      <th>X06956_at_norm</th>\n",
       "      <th>X16699_at_norm</th>\n",
       "      <th>X83863_at_norm</th>\n",
       "      <th>Z17240_at_norm</th>\n",
       "      <th>L49218_f_at_norm</th>\n",
       "      <th>M71243_f_at_norm</th>\n",
       "      <th>Z78285_f_at_norm</th>\n",
       "    </tr>\n",
       "  </thead>\n",
       "  <tbody>\n",
       "    <tr>\n",
       "      <th>0</th>\n",
       "      <td>0</td>\n",
       "      <td>-0.791676</td>\n",
       "      <td>0.167948</td>\n",
       "      <td>-0.447255</td>\n",
       "      <td>-0.845754</td>\n",
       "      <td>-0.246131</td>\n",
       "      <td>-1.022135</td>\n",
       "      <td>0.870576</td>\n",
       "      <td>0.291435</td>\n",
       "      <td>1.669258</td>\n",
       "      <td>...</td>\n",
       "      <td>0.466958</td>\n",
       "      <td>-0.357791</td>\n",
       "      <td>-1.108935</td>\n",
       "      <td>0.398645</td>\n",
       "      <td>0.191747</td>\n",
       "      <td>0.118523</td>\n",
       "      <td>0.098478</td>\n",
       "      <td>0.640940</td>\n",
       "      <td>-0.460157</td>\n",
       "      <td>0.050765</td>\n",
       "    </tr>\n",
       "    <tr>\n",
       "      <th>5</th>\n",
       "      <td>0</td>\n",
       "      <td>0.520069</td>\n",
       "      <td>0.990551</td>\n",
       "      <td>0.560844</td>\n",
       "      <td>-1.455569</td>\n",
       "      <td>0.635758</td>\n",
       "      <td>0.512700</td>\n",
       "      <td>-0.201890</td>\n",
       "      <td>0.838050</td>\n",
       "      <td>-0.882506</td>\n",
       "      <td>...</td>\n",
       "      <td>-1.440910</td>\n",
       "      <td>-1.248533</td>\n",
       "      <td>0.908549</td>\n",
       "      <td>-0.603993</td>\n",
       "      <td>0.666444</td>\n",
       "      <td>-1.045266</td>\n",
       "      <td>-1.030341</td>\n",
       "      <td>0.128645</td>\n",
       "      <td>-0.797157</td>\n",
       "      <td>-0.844778</td>\n",
       "    </tr>\n",
       "    <tr>\n",
       "      <th>9</th>\n",
       "      <td>0</td>\n",
       "      <td>-3.129615</td>\n",
       "      <td>-0.654655</td>\n",
       "      <td>-0.163284</td>\n",
       "      <td>1.215999</td>\n",
       "      <td>-1.067200</td>\n",
       "      <td>0.048984</td>\n",
       "      <td>0.096731</td>\n",
       "      <td>0.648408</td>\n",
       "      <td>0.122126</td>\n",
       "      <td>...</td>\n",
       "      <td>1.246816</td>\n",
       "      <td>1.824063</td>\n",
       "      <td>1.639206</td>\n",
       "      <td>-0.290347</td>\n",
       "      <td>1.721327</td>\n",
       "      <td>2.223545</td>\n",
       "      <td>3.151775</td>\n",
       "      <td>1.098347</td>\n",
       "      <td>0.123047</td>\n",
       "      <td>-0.907258</td>\n",
       "    </tr>\n",
       "    <tr>\n",
       "      <th>12</th>\n",
       "      <td>0</td>\n",
       "      <td>1.269637</td>\n",
       "      <td>-0.874016</td>\n",
       "      <td>0.525347</td>\n",
       "      <td>0.412593</td>\n",
       "      <td>0.004752</td>\n",
       "      <td>-0.016328</td>\n",
       "      <td>1.275159</td>\n",
       "      <td>0.012550</td>\n",
       "      <td>-0.802136</td>\n",
       "      <td>...</td>\n",
       "      <td>1.023999</td>\n",
       "      <td>1.221958</td>\n",
       "      <td>-0.934450</td>\n",
       "      <td>-0.526867</td>\n",
       "      <td>-0.054392</td>\n",
       "      <td>1.604557</td>\n",
       "      <td>-0.191566</td>\n",
       "      <td>0.951977</td>\n",
       "      <td>0.157969</td>\n",
       "      <td>0.488123</td>\n",
       "    </tr>\n",
       "    <tr>\n",
       "      <th>13</th>\n",
       "      <td>0</td>\n",
       "      <td>-0.167036</td>\n",
       "      <td>-0.462714</td>\n",
       "      <td>-1.150085</td>\n",
       "      <td>-0.419852</td>\n",
       "      <td>0.848628</td>\n",
       "      <td>0.355951</td>\n",
       "      <td>-0.147304</td>\n",
       "      <td>1.987057</td>\n",
       "      <td>0.403422</td>\n",
       "      <td>...</td>\n",
       "      <td>-0.674978</td>\n",
       "      <td>-0.097086</td>\n",
       "      <td>0.123366</td>\n",
       "      <td>-1.416388</td>\n",
       "      <td>1.299374</td>\n",
       "      <td>-1.237686</td>\n",
       "      <td>-0.748136</td>\n",
       "      <td>-0.164094</td>\n",
       "      <td>-0.755250</td>\n",
       "      <td>0.363163</td>\n",
       "    </tr>\n",
       "  </tbody>\n",
       "</table>\n",
       "<p>5 rows × 7130 columns</p>\n",
       "</div>"
      ],
      "text/plain": [
       "    Cancer_type  AFFX-BioB-5_at_norm  AFFX-BioB-M_at_norm  \\\n",
       "0             0            -0.791676             0.167948   \n",
       "5             0             0.520069             0.990551   \n",
       "9             0            -3.129615            -0.654655   \n",
       "12            0             1.269637            -0.874016   \n",
       "13            0            -0.167036            -0.462714   \n",
       "\n",
       "    AFFX-BioB-3_at_norm  AFFX-BioC-5_at_norm  AFFX-BioC-3_at_norm  \\\n",
       "0             -0.447255            -0.845754            -0.246131   \n",
       "5              0.560844            -1.455569             0.635758   \n",
       "9             -0.163284             1.215999            -1.067200   \n",
       "12             0.525347             0.412593             0.004752   \n",
       "13            -1.150085            -0.419852             0.848628   \n",
       "\n",
       "    AFFX-BioDn-5_at_norm  AFFX-BioDn-3_at_norm  AFFX-CreX-5_at_norm  \\\n",
       "0              -1.022135              0.870576             0.291435   \n",
       "5               0.512700             -0.201890             0.838050   \n",
       "9               0.048984              0.096731             0.648408   \n",
       "12             -0.016328              1.275159             0.012550   \n",
       "13              0.355951             -0.147304             1.987057   \n",
       "\n",
       "    AFFX-CreX-3_at_norm        ...         U48730_at_norm  U58516_at_norm  \\\n",
       "0              1.669258        ...               0.466958       -0.357791   \n",
       "5             -0.882506        ...              -1.440910       -1.248533   \n",
       "9              0.122126        ...               1.246816        1.824063   \n",
       "12            -0.802136        ...               1.023999        1.221958   \n",
       "13             0.403422        ...              -0.674978       -0.097086   \n",
       "\n",
       "    U73738_at_norm  X06956_at_norm  X16699_at_norm  X83863_at_norm  \\\n",
       "0        -1.108935        0.398645        0.191747        0.118523   \n",
       "5         0.908549       -0.603993        0.666444       -1.045266   \n",
       "9         1.639206       -0.290347        1.721327        2.223545   \n",
       "12       -0.934450       -0.526867       -0.054392        1.604557   \n",
       "13        0.123366       -1.416388        1.299374       -1.237686   \n",
       "\n",
       "    Z17240_at_norm  L49218_f_at_norm  M71243_f_at_norm  Z78285_f_at_norm  \n",
       "0         0.098478          0.640940         -0.460157          0.050765  \n",
       "5        -1.030341          0.128645         -0.797157         -0.844778  \n",
       "9         3.151775          1.098347          0.123047         -0.907258  \n",
       "12       -0.191566          0.951977          0.157969          0.488123  \n",
       "13       -0.748136         -0.164094         -0.755250          0.363163  \n",
       "\n",
       "[5 rows x 7130 columns]"
      ]
     },
     "execution_count": 98,
     "metadata": {},
     "output_type": "execute_result"
    }
   ],
   "source": [
    "df_train_norm.head()"
   ]
  },
  {
   "cell_type": "code",
   "execution_count": 27,
   "metadata": {
    "collapsed": true
   },
   "outputs": [],
   "source": [
    "#df_train_norm.drop(cols_to_norm, axis=1, inplace=True)\n",
    "#df_train_norm.head()"
   ]
  },
  {
   "cell_type": "code",
   "execution_count": 44,
   "metadata": {
    "collapsed": true
   },
   "outputs": [],
   "source": [
    "#df_test_norm.drop(cols_to_norm, axis=1, inplace=True)"
   ]
  },
  {
   "cell_type": "code",
   "execution_count": 22,
   "metadata": {
    "collapsed": true
   },
   "outputs": [],
   "source": [
    "def nozmalization_mm(df,cols_to_norm):\n",
    "     for i in range(0, len(cols_to_norm)):\n",
    "        minimum=np.min(df[cols_to_norm[i]])\n",
    "        maximum=np.max(df[cols_to_norm[i]])\n",
    "        dif=maximum-minimum \n",
    "        df[cols_to_norm[i]+'_norm_mm']=df[cols_to_norm[i]].apply(lambda x:(x-minimum)/dif) \n",
    "     return df"
   ]
  },
  {
   "cell_type": "code",
   "execution_count": 25,
   "metadata": {},
   "outputs": [
    {
     "name": "stderr",
     "output_type": "stream",
     "text": [
      "d:\\Users\\Home\\Anaconda3\\lib\\site-packages\\ipykernel_launcher.py:6: SettingWithCopyWarning: \n",
      "A value is trying to be set on a copy of a slice from a DataFrame.\n",
      "Try using .loc[row_indexer,col_indexer] = value instead\n",
      "\n",
      "See the caveats in the documentation: http://pandas.pydata.org/pandas-docs/stable/indexing.html#indexing-view-versus-copy\n",
      "  \n"
     ]
    }
   ],
   "source": [
    "df_train_norm_mm =nozmalization_mm(data_train1 ,cols_to_norm)\n",
    "df_test_norm_mm =nozmalization_mm(data_test1 ,cols_to_norm)"
   ]
  },
  {
   "cell_type": "code",
   "execution_count": 908,
   "metadata": {
    "scrolled": true
   },
   "outputs": [
    {
     "data": {
      "text/plain": [
       "(34, 7131)"
      ]
     },
     "execution_count": 908,
     "metadata": {},
     "output_type": "execute_result"
    }
   ],
   "source": [
    "df_train_norm_mm.shape"
   ]
  },
  {
   "cell_type": "code",
   "execution_count": 373,
   "metadata": {},
   "outputs": [
    {
     "data": {
      "image/png": "[encoded data removed]",
      "text/plain": [
       "<matplotlib.figure.Figure at 0xfac9860>"
      ]
     },
     "metadata": {},
     "output_type": "display_data"
    }
   ],
   "source": [
    "#train data\n",
    "sns.countplot(x='Cancer_type',data=df_train_norm_mm,palette='hls')\n",
    "plt.show()"
   ]
  },
  {
   "cell_type": "code",
   "execution_count": 374,
   "metadata": {},
   "outputs": [
    {
     "data": {
      "image/png": "[encoded data removed]",
      "text/plain": [
       "<matplotlib.figure.Figure at 0xfa72668>"
      ]
     },
     "metadata": {},
     "output_type": "display_data"
    }
   ],
   "source": [
    "#test data\n",
    "sns.countplot(x='Cancer_type',data=df_test_norm_mm,palette='hls')\n",
    "plt.show()"
   ]
  },
  {
   "cell_type": "code",
   "execution_count": null,
   "metadata": {
    "collapsed": true
   },
   "outputs": [],
   "source": [
    "#3.with more predictors than data we can't build a qualified model."
   ]
  },
  {
   "cell_type": "code",
   "execution_count": 29,
   "metadata": {},
   "outputs": [
    {
     "name": "stderr",
     "output_type": "stream",
     "text": [
      "d:\\Users\\Home\\Anaconda3\\lib\\site-packages\\ipykernel_launcher.py:1: SettingWithCopyWarning: \n",
      "A value is trying to be set on a copy of a slice from a DataFrame\n",
      "\n",
      "See the caveats in the documentation: http://pandas.pydata.org/pandas-docs/stable/indexing.html#indexing-view-versus-copy\n",
      "  \"\"\"Entry point for launching an IPython kernel.\n",
      "d:\\Users\\Home\\Anaconda3\\lib\\site-packages\\ipykernel_launcher.py:2: SettingWithCopyWarning: \n",
      "A value is trying to be set on a copy of a slice from a DataFrame\n",
      "\n",
      "See the caveats in the documentation: http://pandas.pydata.org/pandas-docs/stable/indexing.html#indexing-view-versus-copy\n",
      "  \n"
     ]
    }
   ],
   "source": [
    "df_train_norm_mm.drop(cols_to_norm, axis=1, inplace=True)\n",
    "df_test_norm_mm.drop(cols_to_norm, axis=1, inplace=True)"
   ]
  },
  {
   "cell_type": "code",
   "execution_count": 109,
   "metadata": {},
   "outputs": [
    {
     "data": {
      "text/plain": [
       "0.43192443770533234"
      ]
     },
     "execution_count": 109,
     "metadata": {},
     "output_type": "execute_result"
    }
   ],
   "source": [
    "#df_train_norm_mm.head()\n",
    "#df_test_norm_mm.head()\n"
   ]
  },
  {
   "cell_type": "code",
   "execution_count": 115,
   "metadata": {},
   "outputs": [
    {
     "name": "stdout",
     "output_type": "stream",
     "text": [
      "D49818 type-1 Cancer_type          1.000000\n",
      "D49818_at_norm_mm    0.468537\n",
      "dtype: float64\n",
      "D49818 type-0 Cancer_type          0.000000\n",
      "D49818_at_norm_mm    0.431924\n",
      "dtype: float64\n",
      "M23161 type-1 Cancer_type          1.000000\n",
      "M23161_at_norm_mm    0.253284\n",
      "dtype: float64\n",
      "M23161 type-0 Cancer_type          0.000000\n",
      "M23161_at_norm_mm    0.459791\n",
      "dtype: float64\n",
      "hum type-1 Cancer_type           1.000000\n",
      "hum_alu_at_norm_mm    0.341892\n",
      "dtype: float64\n",
      "hum type-0 Cancer_type           0.000000\n",
      "hum_alu_at_norm_mm    0.258607\n",
      "dtype: float64\n",
      "AFFX-PheX-5_at type-1 Cancer_type               1.000000\n",
      "AFFX-PheX-5_at_norm_mm    0.485066\n",
      "dtype: float64\n",
      "AFFX-PheX-5_at type-0 Cancer_type               0.000000\n",
      "AFFX-PheX-5_at_norm_mm    0.451016\n",
      "dtype: float64\n",
      "M15990 type-1 Cancer_type          1.000000\n",
      "M15990_at_norm_mm    0.214113\n",
      "dtype: float64\n",
      "M15990 type-0 Cancer_type          0.000000\n",
      "M15990_at_norm_mm    0.234454\n",
      "dtype: float64\n"
     ]
    }
   ],
   "source": [
    "df_test_norm_mm_D49818=df_test_norm_mm[['Cancer_type','D49818_at_norm_mm' ]]\n",
    "df_test_norm_mm_D49818=df_test_norm_mm_D49818.sort_values(by=[\"Cancer_type\"])\n",
    "print ('D49818 type-1',np.mean(df_test_norm_mm_D49818[df_test_norm_mm_D49818.Cancer_type==1]))\n",
    "print ('D49818 type-0',np.mean(df_test_norm_mm_D49818[df_test_norm_mm_D49818.Cancer_type==0]))\n",
    "\n",
    "df_test_norm_mm_M23161=df_test_norm_mm[['Cancer_type','M23161_at_norm_mm' ]]\n",
    "df_test_norm_mm_M23161=df_test_norm_mm_M23161.sort_values(by=[\"Cancer_type\"])\n",
    "print ('M23161 type-1',np.mean(df_test_norm_mm_M23161[df_test_norm_mm_M23161.Cancer_type==1]))\n",
    "print ('M23161 type-0',np.mean(df_test_norm_mm_M23161[df_test_norm_mm_M23161.Cancer_type==0]))\n",
    "\n",
    "\n",
    "df_test_norm_mm_hum=df_test_norm_mm[['Cancer_type','hum_alu_at_norm_mm' ]]\n",
    "df_test_norm_mm_hum=df_test_norm_mm_hum.sort_values(by=[\"Cancer_type\"])\n",
    "\n",
    "print ('hum type-1',np.mean(df_test_norm_mm_hum[df_test_norm_mm_hum.Cancer_type==1]))\n",
    "print ('hum type-0',np.mean(df_test_norm_mm_hum[df_test_norm_mm_hum.Cancer_type==0]))\n",
    "\n",
    "df_test_norm_mm_AFFX_PheX=df_test_norm_mm[['Cancer_type','AFFX-PheX-5_at_norm_mm' ]]\n",
    "df_test_norm_mm_AFFX_PheX=df_test_norm_mm_AFFX_PheX.sort_values(by=[\"Cancer_type\"])\n",
    "print ('AFFX-PheX-5_at type-1',np.mean(df_test_norm_mm_AFFX_PheX[df_test_norm_mm_AFFX_PheX.Cancer_type==1]))\n",
    "print ('AFFX-PheX-5_at type-0',np.mean(df_test_norm_mm_AFFX_PheX[df_test_norm_mm_AFFX_PheX.Cancer_type==0]))\n",
    "\n",
    "\n",
    "df_test_norm_mm_M15990=df_test_norm_mm[['Cancer_type','M15990_at_norm_mm' ]]\n",
    "df_test_norm_mm_M15990=df_test_norm_mm_M15990.sort_values(by=[\"Cancer_type\"])\n",
    "print ('M15990 type-1',np.mean(df_test_norm_mm_M15990[df_test_norm_mm_M15990.Cancer_type==1]))\n",
    "print ('M15990 type-0',np.mean(df_test_norm_mm_M15990[df_test_norm_mm_M15990.Cancer_type==0]))\n"
   ]
  },
  {
   "cell_type": "code",
   "execution_count": 92,
   "metadata": {},
   "outputs": [
    {
     "data": {
      "text/plain": [
       "<matplotlib.axes._subplots.AxesSubplot at 0x1269b400>"
      ]
     },
     "execution_count": 92,
     "metadata": {},
     "output_type": "execute_result"
    },
    {
     "data": {
      "image/png": "[encoded data removed]",
      "text/plain": [
       "<matplotlib.figure.Figure at 0xe25b898>"
      ]
     },
     "metadata": {},
     "output_type": "display_data"
    }
   ],
   "source": [
    "sns.heatmap(df_test_norm_mm_D49818)"
   ]
  },
  {
   "cell_type": "code",
   "execution_count": 94,
   "metadata": {},
   "outputs": [
    {
     "data": {
      "text/plain": [
       "<matplotlib.axes._subplots.AxesSubplot at 0x127d11d0>"
      ]
     },
     "execution_count": 94,
     "metadata": {},
     "output_type": "execute_result"
    },
    {
     "data": {
      "image/png": "[encoded data removed]",
      "text/plain": [
       "<matplotlib.figure.Figure at 0x12802668>"
      ]
     },
     "metadata": {},
     "output_type": "display_data"
    }
   ],
   "source": [
    "sns.heatmap(df_test_norm_mm_M23161)"
   ]
  },
  {
   "cell_type": "code",
   "execution_count": 95,
   "metadata": {},
   "outputs": [
    {
     "data": {
      "text/plain": [
       "<matplotlib.axes._subplots.AxesSubplot at 0x12891be0>"
      ]
     },
     "execution_count": 95,
     "metadata": {},
     "output_type": "execute_result"
    },
    {
     "data": {
      "image/png": "[encoded data removed]",
      "text/plain": [
       "<matplotlib.figure.Figure at 0x128c0748>"
      ]
     },
     "metadata": {},
     "output_type": "display_data"
    }
   ],
   "source": [
    "sns.heatmap(df_test_norm_mm_hum)"
   ]
  },
  {
   "cell_type": "code",
   "execution_count": 96,
   "metadata": {},
   "outputs": [
    {
     "data": {
      "text/plain": [
       "<matplotlib.axes._subplots.AxesSubplot at 0xfba09e8>"
      ]
     },
     "execution_count": 96,
     "metadata": {},
     "output_type": "execute_result"
    },
    {
     "data": {
      "image/png": "[encoded data removed]",
      "text/plain": [
       "<matplotlib.figure.Figure at 0xfb7f668>"
      ]
     },
     "metadata": {},
     "output_type": "display_data"
    }
   ],
   "source": [
    "sns.heatmap(df_test_norm_mm_AFFX_PheX)"
   ]
  },
  {
   "cell_type": "code",
   "execution_count": 97,
   "metadata": {},
   "outputs": [
    {
     "data": {
      "text/plain": [
       "<matplotlib.axes._subplots.AxesSubplot at 0xf81c160>"
      ]
     },
     "execution_count": 97,
     "metadata": {},
     "output_type": "execute_result"
    },
    {
     "data": {
      "image/png": "[encoded data removed]",
      "text/plain": [
       "<matplotlib.figure.Figure at 0xd603d30>"
      ]
     },
     "metadata": {},
     "output_type": "display_data"
    }
   ],
   "source": [
    "sns.heatmap(df_test_norm_mm_M15990)"
   ]
  },
  {
   "cell_type": "code",
   "execution_count": 113,
   "metadata": {
    "collapsed": true
   },
   "outputs": [],
   "source": [
    "# M23161_at seems to represent some correlation between the expression and the cancer type and to some extension hum_alu_at_norm."
   ]
  },
  {
   "cell_type": "code",
   "execution_count": null,
   "metadata": {
    "collapsed": true
   },
   "outputs": [],
   "source": [
    "#We can also visualize this data set in two dimensions using PCA. Find the top two principal components for the\n",
    "#gene expression data. Generate a scatter plot using these principal components, highlighting the AML and ALL points \n",
    "#in different colors. How well do the top two principal components discriminate between the two classes?"
   ]
  },
  {
   "cell_type": "code",
   "execution_count": 128,
   "metadata": {
    "collapsed": true
   },
   "outputs": [],
   "source": [
    "col_mm=df_train_norm_mm.columns.tolist()"
   ]
  },
  {
   "cell_type": "code",
   "execution_count": 182,
   "metadata": {
    "collapsed": true
   },
   "outputs": [],
   "source": [
    "X_norm_mm=df_train_norm_mm[col_mm[1:]].values\n",
    "Y_norm_mm=df_train_norm_mm['Cancer_type'].values\n",
    "\n",
    "X_norm_mm_test=df_test_norm_mm[col_mm[1:]].values\n",
    "Y_norm_mm_test=df_test_norm_mm['Cancer_type'].values"
   ]
  },
  {
   "cell_type": "code",
   "execution_count": 771,
   "metadata": {
    "collapsed": true
   },
   "outputs": [],
   "source": [
    "pca = PCA(n_components=2)\n",
    "pca.fit(X_norm_mm)\n",
    "X_train_pca = pca.transform(X_norm_mm)\n",
    "X_test_pca = pca.transform(X_norm_mm_test)"
   ]
  },
  {
   "cell_type": "code",
   "execution_count": 772,
   "metadata": {
    "collapsed": true
   },
   "outputs": [],
   "source": [
    "df_pca=pd.DataFrame(X_train_pca, columns=[\"PCA1\", \"PCA2\"])\n",
    "df_pca['Cancer_type']=Y_norm_mm\n",
    "\n",
    "df_pca_test=pd.DataFrame(X_test_pca , columns=[\"PCA1\", \"PCA2\"])\n",
    "df_pca_test['Cancer_type']=Y_norm_mm_test"
   ]
  },
  {
   "cell_type": "code",
   "execution_count": 149,
   "metadata": {},
   "outputs": [
    {
     "data": {
      "text/plain": [
       "[<matplotlib.lines.Line2D at 0x13d3ec18>]"
      ]
     },
     "execution_count": 149,
     "metadata": {},
     "output_type": "execute_result"
    },
    {
     "data": {
      "image/png": "[encoded data removed]",
      "text/plain": [
       "<matplotlib.figure.Figure at 0x13d3e9e8>"
      ]
     },
     "metadata": {},
     "output_type": "display_data"
    }
   ],
   "source": [
    "sns.lmplot(x=\"PCA1\", y=\"PCA2\",  data=df_pca, fit_reg=False,  hue=\"Cancer_type\") \n",
    "plt.plot([0, 0], [-10, 25], '--',color='blue' , lw=1)\n",
    "plt.plot([-13, 20], [0, 0], '--',color='blue' ,lw=1)"
   ]
  },
  {
   "cell_type": "code",
   "execution_count": null,
   "metadata": {
    "collapsed": true
   },
   "outputs": [],
   "source": [
    "#with PCA2<0 and PCA1>0, most likely that \n",
    "#the class is AML\n",
    "#Let us check on the test"
   ]
  },
  {
   "cell_type": "code",
   "execution_count": 773,
   "metadata": {},
   "outputs": [
    {
     "data": {
      "text/plain": [
       "[<matplotlib.lines.Line2D at 0x18a8c780>]"
      ]
     },
     "execution_count": 773,
     "metadata": {},
     "output_type": "execute_result"
    },
    {
     "data": {
      "image/png": "[encoded data removed]",
      "text/plain": [
       "<matplotlib.figure.Figure at 0x18a8c438>"
      ]
     },
     "metadata": {},
     "output_type": "display_data"
    }
   ],
   "source": [
    "sns.lmplot(x=\"PCA1\", y=\"PCA2\",  data=df_pca_test, fit_reg=False,  hue=\"Cancer_type\") \n",
    "plt.plot([0, 0], [-10, 25], '--',color='blue' , lw=1)\n",
    "plt.plot([-13, 20], [0, 0], '--',color='blue' ,lw=1)"
   ]
  },
  {
   "cell_type": "code",
   "execution_count": null,
   "metadata": {
    "collapsed": true
   },
   "outputs": [],
   "source": [
    "#the separation plane might be shiftted.....not that obvious..."
   ]
  },
  {
   "cell_type": "markdown",
   "metadata": {},
   "source": [
    "## Part (b): Linear Regression vs. Logistic Regression\n",
    "\n",
    "Begin by analyzing the differences between using linear regression and logistic regression for classification. For this part, you shall work with a single gene predictor: `D29963_at`.\n",
    "\n",
    "1. Fit a simple linear regression model to the training set using the single gene predictor `D29963_at`. We could interpret the scores predicted by regression model interpreted for a patient as an estimate of the probability that the patient has the `ALL` type cancer (class 1). Is there a problem with this interpretation?\n",
    "\n",
    "2. The fitted linear regression model can be converted to a classification model (i.e. a model that predicts one of two binary labels 0 or 1) by classifying patients with predicted score greater than 0.5 into the `ALL` type (class 1), and the others into the `AML` type (class 0). Evaluate the classification accuracy (1 - misclassification rate) of the obtained classification model on both the training and test sets.\n",
    "\n",
    "3. Next, fit a simple logistic regression model to the training set. How does the training and test calssification accuracy of this model compare with the linear regression model?  Remember, you need to set the regularization parameter for sklearn's logistic regression function to be a very large value in order not to regularize (use 'C=100000').\n",
    "\n",
    "4. Plot the quantitative output from linear regression model and the probabilistic output from the logistic regression model (on the training set points) as a function of the gene predictor. Also, display the true binary response for the training set points in the same plot.\n",
    "Based on these plots, does one of the models appear better suited for binary classification than the other? Explain.\n",
    "\n"
   ]
  },
  {
   "cell_type": "code",
   "execution_count": 172,
   "metadata": {
    "collapsed": true
   },
   "outputs": [],
   "source": [
    "#1.\n",
    "df_X_norm_train_D29963=pd.DataFrame(df_train_norm_mm['D29963_at_norm_mm'].values, columns=['D29963_at_norm_mm'])\n",
    "df_X_norm_test_D29963=pd.DataFrame(df_test_norm_mm['D29963_at_norm_mm'].values, columns=['D29963_at_norm_mm'])\n",
    "#df_X_norm_train_D29963['Cancer_type']=Y_norm_mm\n",
    "#df_X_norm_train_D29963.head()"
   ]
  },
  {
   "cell_type": "code",
   "execution_count": 173,
   "metadata": {
    "collapsed": true
   },
   "outputs": [],
   "source": [
    "df_X_norm_train_D29963['1']= 1\n",
    "df_X_norm_test_D29963['1']= 1\n",
    "#df_test_norm_mm['Cancer_type']\n",
    "#df_X_norm_train_D29963.head()"
   ]
  },
  {
   "cell_type": "code",
   "execution_count": 171,
   "metadata": {},
   "outputs": [
    {
     "data": {
      "text/html": [
       "<table class=\"simpletable\">\n",
       "<caption>OLS Regression Results</caption>\n",
       "<tr>\n",
       "  <th>Dep. Variable:</th>       <td>Cancer_type</td>   <th>  R-squared:         </th> <td>   0.243</td>\n",
       "</tr>\n",
       "<tr>\n",
       "  <th>Model:</th>                   <td>OLS</td>       <th>  Adj. R-squared:    </th> <td>   0.219</td>\n",
       "</tr>\n",
       "<tr>\n",
       "  <th>Method:</th>             <td>Least Squares</td>  <th>  F-statistic:       </th> <td>   10.28</td>\n",
       "</tr>\n",
       "<tr>\n",
       "  <th>Date:</th>             <td>Mon, 22 Jan 2018</td> <th>  Prob (F-statistic):</th>  <td>0.00305</td>\n",
       "</tr>\n",
       "<tr>\n",
       "  <th>Time:</th>                 <td>12:12:33</td>     <th>  Log-Likelihood:    </th> <td> -16.783</td>\n",
       "</tr>\n",
       "<tr>\n",
       "  <th>No. Observations:</th>      <td>    34</td>      <th>  AIC:               </th> <td>   37.57</td>\n",
       "</tr>\n",
       "<tr>\n",
       "  <th>Df Residuals:</th>          <td>    32</td>      <th>  BIC:               </th> <td>   40.62</td>\n",
       "</tr>\n",
       "<tr>\n",
       "  <th>Df Model:</th>              <td>     1</td>      <th>                     </th>     <td> </td>   \n",
       "</tr>\n",
       "<tr>\n",
       "  <th>Covariance Type:</th>      <td>nonrobust</td>    <th>                     </th>     <td> </td>   \n",
       "</tr>\n",
       "</table>\n",
       "<table class=\"simpletable\">\n",
       "<tr>\n",
       "          <td></td>             <th>coef</th>     <th>std err</th>      <th>t</th>      <th>P>|t|</th>  <th>[0.025</th>    <th>0.975]</th>  \n",
       "</tr>\n",
       "<tr>\n",
       "  <th>D29963_at_norm_mm</th> <td>    1.0833</td> <td>    0.338</td> <td>    3.206</td> <td> 0.003</td> <td>    0.395</td> <td>    1.772</td>\n",
       "</tr>\n",
       "<tr>\n",
       "  <th>1</th>                 <td>   -0.0843</td> <td>    0.137</td> <td>   -0.614</td> <td> 0.544</td> <td>   -0.364</td> <td>    0.195</td>\n",
       "</tr>\n",
       "</table>\n",
       "<table class=\"simpletable\">\n",
       "<tr>\n",
       "  <th>Omnibus:</th>       <td> 3.211</td> <th>  Durbin-Watson:     </th> <td>   0.435</td>\n",
       "</tr>\n",
       "<tr>\n",
       "  <th>Prob(Omnibus):</th> <td> 0.201</td> <th>  Jarque-Bera (JB):  </th> <td>   2.926</td>\n",
       "</tr>\n",
       "<tr>\n",
       "  <th>Skew:</th>          <td> 0.664</td> <th>  Prob(JB):          </th> <td>   0.232</td>\n",
       "</tr>\n",
       "<tr>\n",
       "  <th>Kurtosis:</th>      <td> 2.453</td> <th>  Cond. No.          </th> <td>    5.43</td>\n",
       "</tr>\n",
       "</table>"
      ],
      "text/plain": [
       "<class 'statsmodels.iolib.summary.Summary'>\n",
       "\"\"\"\n",
       "                            OLS Regression Results                            \n",
       "==============================================================================\n",
       "Dep. Variable:            Cancer_type   R-squared:                       0.243\n",
       "Model:                            OLS   Adj. R-squared:                  0.219\n",
       "Method:                 Least Squares   F-statistic:                     10.28\n",
       "Date:                Mon, 22 Jan 2018   Prob (F-statistic):            0.00305\n",
       "Time:                        12:12:33   Log-Likelihood:                -16.783\n",
       "No. Observations:                  34   AIC:                             37.57\n",
       "Df Residuals:                      32   BIC:                             40.62\n",
       "Df Model:                           1                                         \n",
       "Covariance Type:            nonrobust                                         \n",
       "=====================================================================================\n",
       "                        coef    std err          t      P>|t|      [0.025      0.975]\n",
       "-------------------------------------------------------------------------------------\n",
       "D29963_at_norm_mm     1.0833      0.338      3.206      0.003       0.395       1.772\n",
       "1                    -0.0843      0.137     -0.614      0.544      -0.364       0.195\n",
       "==============================================================================\n",
       "Omnibus:                        3.211   Durbin-Watson:                   0.435\n",
       "Prob(Omnibus):                  0.201   Jarque-Bera (JB):                2.926\n",
       "Skew:                           0.664   Prob(JB):                        0.232\n",
       "Kurtosis:                       2.453   Cond. No.                         5.43\n",
       "==============================================================================\n",
       "\n",
       "Warnings:\n",
       "[1] Standard Errors assume that the covariance matrix of the errors is correctly specified.\n",
       "\"\"\""
      ]
     },
     "execution_count": 171,
     "metadata": {},
     "output_type": "execute_result"
    }
   ],
   "source": [
    "reg_D29963 = sm.OLS(df_pca['Cancer_type'],df_X_norm_train_D29963).fit()\n",
    "reg_D29963.summary()"
   ]
  },
  {
   "cell_type": "code",
   "execution_count": null,
   "metadata": {
    "collapsed": true
   },
   "outputs": [],
   "source": [
    "#the linear regression is not a good model since the we are interested in probabilities - [0-1] range.\n",
    "# the linear regression gives continuous result beyond this range."
   ]
  },
  {
   "cell_type": "code",
   "execution_count": null,
   "metadata": {
    "collapsed": true
   },
   "outputs": [],
   "source": [
    "#The fitted linear regression model can be converted to a classification model (i.e. a model that predicts one of two binary \n",
    "#labels  0 or 1) by classifying patients with predicted score greater than 0.5 into the ALL type (class 1), and the others into \n",
    "#the AML #type (class 0). Evaluate the classification accuracy (1 - misclassification rate) of the obtained classification model\n",
    "#on both the training and test sets."
   ]
  },
  {
   "cell_type": "code",
   "execution_count": 231,
   "metadata": {
    "collapsed": true
   },
   "outputs": [],
   "source": [
    "train_pred_D29963=reg_D29963.predict(df_X_norm_train_D29963)\n",
    "test_pred_D29963=reg_D29963.predict(df_X_norm_test_D29963)\n",
    "#predicted test train classifier\n",
    "train_pred_D29963_class=train_pred_D29963.apply(lambda x:1 if x>0.5 else 0)\n",
    "test_pred_D29963_class =test_pred_D29963.apply(lambda x:1 if x>0.5 else 0)\n"
   ]
  },
  {
   "cell_type": "code",
   "execution_count": 183,
   "metadata": {
    "scrolled": true
   },
   "outputs": [
    {
     "name": "stdout",
     "output_type": "stream",
     "text": [
      "the accuracy of the train prediction is: 0.794117647059\n",
      "the accuracy of the test prediction is: 0.74358974359\n"
     ]
    }
   ],
   "source": [
    "print('the accuracy of the train prediction is:',accuracy_score(Y_norm_mm, train_pred_D29963_class))\n",
    "print('the accuracy of the test prediction is:',accuracy_score(Y_norm_mm_test, test_pred_D29963_class))"
   ]
  },
  {
   "cell_type": "code",
   "execution_count": 190,
   "metadata": {
    "collapsed": true
   },
   "outputs": [],
   "source": [
    "#Next, fit a simple logistic regression model to the training set. How does the training and test calssification accuracy of\n",
    "#this model compare with the linear regression model? Remember, you need to set the regularization parameter for sklearn's \n",
    "#logistic regression function to be a very large value in order not to regularize (use 'C=100000').\n"
   ]
  },
  {
   "cell_type": "code",
   "execution_count": 216,
   "metadata": {
    "collapsed": true
   },
   "outputs": [],
   "source": [
    "log_reg_D29963 = LogisticRegression(C=100000, fit_intercept=False)\n",
    "log_reg_D29963.fit(df_X_norm_train_D29963, Y_norm_mm)\n",
    "log_reg_D29963_train_pred = log_reg_D29963.predict_proba(df_X_norm_train_D29963)[:,1]\n",
    "log_reg_D29963_test_pred  = log_reg_D29963.predict_proba(df_X_norm_test_D29963)[:,1]\n"
   ]
  },
  {
   "cell_type": "code",
   "execution_count": 207,
   "metadata": {},
   "outputs": [
    {
     "data": {
      "text/plain": [
       "<matplotlib.collections.PathCollection at 0x147c6cf8>"
      ]
     },
     "execution_count": 207,
     "metadata": {},
     "output_type": "execute_result"
    },
    {
     "data": {
      "image/png": "[encoded data removed]",
      "text/plain": [
       "<matplotlib.figure.Figure at 0x147c6198>"
      ]
     },
     "metadata": {},
     "output_type": "display_data"
    }
   ],
   "source": [
    "#train\n",
    "plt.scatter(df_X_norm_train_D29963['D29963_at_norm_mm'],log_reg_D29963_train_pred)\n",
    "plt.scatter(df_X_norm_train_D29963['D29963_at_norm_mm'],Y_norm_mm)"
   ]
  },
  {
   "cell_type": "code",
   "execution_count": 208,
   "metadata": {},
   "outputs": [
    {
     "data": {
      "text/plain": [
       "<matplotlib.collections.PathCollection at 0x1857c198>"
      ]
     },
     "execution_count": 208,
     "metadata": {},
     "output_type": "execute_result"
    },
    {
     "data": {
      "image/png": "[encoded data removed]",
      "text/plain": [
       "<matplotlib.figure.Figure at 0x14ca7a58>"
      ]
     },
     "metadata": {},
     "output_type": "display_data"
    }
   ],
   "source": [
    "#test\n",
    "plt.scatter(df_X_norm_test_D29963['D29963_at_norm_mm'],log_reg_D29963_test_pred)\n",
    "plt.scatter(df_X_norm_test_D29963['D29963_at_norm_mm'],Y_norm_mm_test)"
   ]
  },
  {
   "cell_type": "code",
   "execution_count": 256,
   "metadata": {},
   "outputs": [
    {
     "name": "stdout",
     "output_type": "stream",
     "text": [
      "the accuracy of the train prediction is: 0.794117647059\n",
      "the accuracy of the test prediction is: 0.769230769231\n"
     ]
    }
   ],
   "source": [
    "log_train_pred_D29963_class=pd.Series(log_reg_D29963_train_pred).apply(lambda x:1 if x>0.5 else 0)\n",
    "log_test_pred_D29963_class =pd.Series(log_reg_D29963_test_pred ).apply(lambda x:1 if x>0.5 else 0)\n",
    "print('the accuracy of the train prediction is:',accuracy_score(Y_norm_mm, log_train_pred_D29963_class))\n",
    "print('the accuracy of the test prediction is:',accuracy_score(Y_norm_mm_test, log_test_pred_D29963_class))"
   ]
  },
  {
   "cell_type": "code",
   "execution_count": null,
   "metadata": {
    "collapsed": true
   },
   "outputs": [],
   "source": [
    "# the logistic regression is slightly better on the test class"
   ]
  },
  {
   "cell_type": "code",
   "execution_count": 258,
   "metadata": {},
   "outputs": [
    {
     "name": "stdout",
     "output_type": "stream",
     "text": [
      "             precision    recall  f1-score   support\n",
      "\n",
      "          0       0.81      0.92      0.86        24\n",
      "          1       0.71      0.50      0.59        10\n",
      "\n",
      "avg / total       0.79      0.79      0.78        34\n",
      "\n"
     ]
    }
   ],
   "source": [
    "#logistic\n",
    "print(classification_report(Y_norm_mm, log_train_pred_D29963_class))"
   ]
  },
  {
   "cell_type": "code",
   "execution_count": 259,
   "metadata": {},
   "outputs": [
    {
     "name": "stdout",
     "output_type": "stream",
     "text": [
      "             precision    recall  f1-score   support\n",
      "\n",
      "          0       0.79      0.96      0.87        24\n",
      "          1       0.80      0.40      0.53        10\n",
      "\n",
      "avg / total       0.80      0.79      0.77        34\n",
      "\n"
     ]
    }
   ],
   "source": [
    "#simple\n",
    "print(classification_report(Y_norm_mm, train_pred_D29963_class))"
   ]
  },
  {
   "cell_type": "code",
   "execution_count": 260,
   "metadata": {
    "collapsed": true
   },
   "outputs": [],
   "source": [
    "#Plot the quantitative output from linear regression model and the probabilistic output from the logistic regression model\n",
    "#(on the training set points) as a function of the gene predictor. Also, display the true binary response for the training\n",
    "#set points in the same plot. Based on these plots, does one of the models appear better suited for binary classification \n",
    "#than the other? Explain."
   ]
  },
  {
   "cell_type": "code",
   "execution_count": 264,
   "metadata": {},
   "outputs": [
    {
     "data": {
      "text/plain": [
       "<matplotlib.legend.Legend at 0x18b80e80>"
      ]
     },
     "execution_count": 264,
     "metadata": {},
     "output_type": "execute_result"
    },
    {
     "data": {
      "image/png": "[encoded data removed]",
      "text/plain": [
       "<matplotlib.figure.Figure at 0x188a3c50>"
      ]
     },
     "metadata": {},
     "output_type": "display_data"
    }
   ],
   "source": [
    "#train\n",
    "plt.scatter(df_X_norm_train_D29963['D29963_at_norm_mm'],log_reg_D29963_train_pred,label='logistic')\n",
    "plt.scatter(df_X_norm_train_D29963['D29963_at_norm_mm'],train_pred_D29963,label='simple')\n",
    "plt.scatter(df_X_norm_train_D29963['D29963_at_norm_mm'],Y_norm_mm,label='true')\n",
    "\n",
    "plt.legend()"
   ]
  },
  {
   "cell_type": "raw",
   "metadata": {},
   "source": [
    "Part (c): Multiple Logistic Regression\n",
    "\n",
    "1. Next, fit a multiple logistic regression model with all the gene predictors from the data set.  How does the classification accuracy of this model compare with the models fitted in Part (b) with a single gene (on both the training and test sets)?  "
   ]
  },
  {
   "cell_type": "code",
   "execution_count": 294,
   "metadata": {},
   "outputs": [
    {
     "data": {
      "text/plain": [
       "LogisticRegression(C=100000, class_weight=None, dual=False,\n",
       "          fit_intercept=False, intercept_scaling=1, max_iter=100,\n",
       "          multi_class='ovr', n_jobs=1, penalty='l2', random_state=None,\n",
       "          solver='liblinear', tol=0.0001, verbose=0, warm_start=False)"
      ]
     },
     "execution_count": 294,
     "metadata": {},
     "output_type": "execute_result"
    }
   ],
   "source": [
    "log_reg_tot = LogisticRegression(C=100000, fit_intercept=False)\n",
    "log_reg_tot.fit(X_norm_mm, Y_norm_mm)"
   ]
  },
  {
   "cell_type": "code",
   "execution_count": 295,
   "metadata": {},
   "outputs": [
    {
     "name": "stdout",
     "output_type": "stream",
     "text": [
      "the accuracy of the train prediction with all predictors is: 1.0\n",
      "the accuracy of the test prediction with all predictors is: 0.769230769231\n"
     ]
    }
   ],
   "source": [
    "log_reg_tot_train_pred = log_reg_tot.predict_proba(X_norm_mm)[:,1]\n",
    "log_reg_tot_test_pred  = log_reg_tot.predict_proba(X_norm_mm_test)[:,1]\n",
    "\n",
    "log_train_pred_tot_class=pd.Series(log_reg_tot_train_pred).apply(lambda x:1 if x>0.5 else 0)\n",
    "log_test_pred_tot_class =pd.Series(log_reg_tot_test_pred).apply(lambda x:1 if x>0.5 else 0)\n",
    "\n",
    "print('the accuracy of the train prediction with all predictors is:',accuracy_score(Y_norm_mm, log_train_pred_tot_class))\n",
    "print('the accuracy of the test prediction with all predictors is:',accuracy_score(Y_norm_mm_test, log_test_pred_tot_class))"
   ]
  },
  {
   "cell_type": "code",
   "execution_count": 487,
   "metadata": {},
   "outputs": [
    {
     "data": {
      "text/plain": [
       "<bound method LogisticRegression.predict_proba of LogisticRegression(C=100000, class_weight=None, dual=False,\n",
       "          fit_intercept=False, intercept_scaling=1, max_iter=100,\n",
       "          multi_class='ovr', n_jobs=1, penalty='l2', random_state=None,\n",
       "          solver='liblinear', tol=0.0001, verbose=0, warm_start=False)>"
      ]
     },
     "execution_count": 487,
     "metadata": {},
     "output_type": "execute_result"
    }
   ],
   "source": [
    "log_reg_tot.predict_proba"
   ]
  },
  {
   "cell_type": "code",
   "execution_count": 269,
   "metadata": {
    "collapsed": true
   },
   "outputs": [],
   "source": [
    "# starter code\n",
    "from HW5_functions import visualize_prob"
   ]
  },
  {
   "cell_type": "code",
   "execution_count": 278,
   "metadata": {
    "collapsed": true
   },
   "outputs": [],
   "source": [
    "#--------  visualize_prob\n",
    "# A function to visualize the probabilities predicted by a Logistic Regression model\n",
    "# Input: \n",
    "#      model (Logistic regression model)\n",
    "#      x (n x d array of predictors in training data)\n",
    "#      y (n x 1 array of response variable vals in training data: 0 or 1)\n",
    "#      ax (an axis object to generate the plot)\n",
    "\n",
    "def visualize_prob(model, x, y, ax):\n",
    "    # Use the model to predict probabilities for\n",
    "    y_pred = model.predict_proba(x)\n",
    "    \n",
    "    # Separate the predictions on the label 1 and label 0 points\n",
    "    ypos = y_pred[y==1]\n",
    "    yneg = y_pred[y==0]\n",
    "    \n",
    "    # Count the number of label 1 and label 0 points\n",
    "    npos = ypos.shape[0]\n",
    "    nneg = yneg.shape[0]\n",
    "    \n",
    "    # Plot the probabilities on a vertical line at x = 0, \n",
    "    # with the positive points in blue and negative points in red\n",
    "    pos_handle = ax.plot(np.zeros((npos,1)), ypos[:,1], 'bx', label = 'ALL')\n",
    "    neg_handle = ax.plot(np.zeros((nneg,1)), yneg[:,1], 'rx', label = 'AML')\n",
    "    \n",
    "    # Line to mark prob 0.5\n",
    "    ax.axhline(y = 0.5, color = 'k', linestyle = '--')\n",
    "    \n",
    "    # Add y-label and legend, do not display x-axis, set y-axis limit\n",
    "    ax.set_ylabel('Probability of AML class')\n",
    "    ax.legend(loc = 'best')\n",
    "    ax.get_xaxis().set_visible(False)\n",
    "    ax.set_ylim([0,1])"
   ]
  },
  {
   "cell_type": "code",
   "execution_count": 279,
   "metadata": {
    "collapsed": true
   },
   "outputs": [],
   "source": [
    "#2. \"Use the `visualize_prob` from `HW5_functions.py` to visualize the probabilties predicted by the fitted multiple logistic \n",
    "#regression model on both the training and test data sets. The function creates a visualization that places the data points on \n",
    "#a vertical line based on the predicted probabilities, with the `ALL` and `AML` classes shown in different colors, and with the \n",
    "#0.5 threshold highlighted using a dotted horizontal line.  Is there a difference in the spread of probabilities in the training\n",
    "#and test plots? Are there data points for which the predicted probability is close to 0.5? If so, what can you say about these\n",
    "#points?\""
   ]
  },
  {
   "cell_type": "code",
   "execution_count": 280,
   "metadata": {},
   "outputs": [
    {
     "data": {
      "image/png": "[encoded data removed]",
      "text/plain": [
       "<matplotlib.figure.Figure at 0x18a34390>"
      ]
     },
     "metadata": {},
     "output_type": "display_data"
    }
   ],
   "source": [
    "f, (ax1, ax2) = plt.subplots(1, 2)\n",
    "visualize_prob(log_reg_tot, X_norm_mm, Y_norm_mm, ax1)\n",
    "visualize_prob(log_reg_tot, X_norm_mm_test, Y_norm_mm_test, ax2)"
   ]
  },
  {
   "cell_type": "code",
   "execution_count": null,
   "metadata": {
    "collapsed": true
   },
   "outputs": [],
   "source": [
    "#The predictive model performes well on the train set, \n",
    "#however,on the test set,there ar a lot of misclassified samples ,all of them are drom  ALL class.\n",
    "# the predictive model is doing good both on the train and test sets for AML class"
   ]
  },
  {
   "cell_type": "code",
   "execution_count": 345,
   "metadata": {},
   "outputs": [
    {
     "name": "stderr",
     "output_type": "stream",
     "text": [
      "d:\\Users\\Home\\Anaconda3\\lib\\site-packages\\ipykernel_launcher.py:1: SettingWithCopyWarning: \n",
      "A value is trying to be set on a copy of a slice from a DataFrame.\n",
      "Try using .loc[row_indexer,col_indexer] = value instead\n",
      "\n",
      "See the caveats in the documentation: http://pandas.pydata.org/pandas-docs/stable/indexing.html#indexing-view-versus-copy\n",
      "  \"\"\"Entry point for launching an IPython kernel.\n"
     ]
    },
    {
     "data": {
      "text/plain": [
       "(34, 1)"
      ]
     },
     "execution_count": 345,
     "metadata": {},
     "output_type": "execute_result"
    }
   ],
   "source": [
    "df_train_norm_mm['1'] = 1.0\n",
    "x_train_all=df_train_norm_mm[col_mm[1:]].values\n",
    "y_train_all=df_train_norm_mm['Cancer_type'].values.reshape(len(y_train_all),1)\n",
    "y_train_all.shape"
   ]
  },
  {
   "cell_type": "markdown",
   "metadata": {},
   "source": [
    "## Part (d): Analyzing Significance of Coefficients\n",
    "\n",
    "How many of the coefficients estimated by the multiple logistic regression in the previous problem are significantly different from zero at a *significance level of 95%*? \n",
    "\n",
    "Hint: To answer this question, use *bootstrapping* with 100 boostrap samples/iterations.  \n",
    "\n"
   ]
  },
  {
   "cell_type": "code",
   "execution_count": 491,
   "metadata": {},
   "outputs": [
    {
     "data": {
      "text/plain": [
       "7129"
      ]
     },
     "execution_count": 491,
     "metadata": {},
     "output_type": "execute_result"
    }
   ],
   "source": [
    "df_train_norm_mm[col_mm[1:]].shape[1]"
   ]
  },
  {
   "cell_type": "code",
   "execution_count": 570,
   "metadata": {
    "collapsed": true
   },
   "outputs": [],
   "source": [
    "iterations=300\n",
    "try_table = np.zeros((df_train_norm_mm[col_mm[1:]].shape[1],iterations))\n",
    "\n",
    "for i in range(iterations):   \n",
    "    boot_rows = np.random.choice(range(df_train_norm_mm[col_mm[1:]].shape[0]), size=df_train_norm_mm[col_mm[1:]].shape[0], replace=True)\n",
    "    X_train_try = df_train_norm_mm[col_mm[1:]].values[boot_rows]\n",
    "    y_train_try = df_train_norm_mm['Cancer_type'].values[boot_rows]\n",
    "    log_try = LogisticRegression(C=100000, fit_intercept=False)\n",
    "    log_try.fit(X_train_try, y_train_try)\n",
    "    try_table[:,i] = log_try.coef_"
   ]
  },
  {
   "cell_type": "code",
   "execution_count": 571,
   "metadata": {
    "collapsed": true
   },
   "outputs": [],
   "source": [
    "mean_coef=[]\n",
    "SE=[]\n",
    "p_val=[]\n",
    "#P=exp(−0.717×z − 0.416×z2)."
   ]
  },
  {
   "cell_type": "code",
   "execution_count": 572,
   "metadata": {
    "collapsed": true
   },
   "outputs": [],
   "source": [
    "#by formula\n",
    "for i in range(df_train_norm_mm[col_mm[1:]].shape[1]):\n",
    "    mean_coef.append(np.mean(try_table[i]))\n",
    "    SE.append(np.std(try_table[i]))\n",
    "    z=np.mean(try_table[i])/np.std(try_table[i])\n",
    "    p_val.append(math.exp(-0.717*z-0.416*z*z))"
   ]
  },
  {
   "cell_type": "code",
   "execution_count": 810,
   "metadata": {
    "collapsed": true
   },
   "outputs": [],
   "source": [
    "df_stat=pd.DataFrame({'name':col_mm[1:]})\n",
    "df_stat['mean_coef']=mean_coef\n",
    "df_stat['SE']=SE\n",
    "df_stat['p_val']=p_val"
   ]
  },
  {
   "cell_type": "code",
   "execution_count": 902,
   "metadata": {},
   "outputs": [
    {
     "data": {
      "text/plain": [
       "874"
      ]
     },
     "execution_count": 902,
     "metadata": {},
     "output_type": "execute_result"
    }
   ],
   "source": [
    "important_gens=df_stat[df_stat.p_val<0.05]\n",
    "len(important_gens)"
   ]
  },
  {
   "cell_type": "code",
   "execution_count": null,
   "metadata": {
    "collapsed": true
   },
   "outputs": [],
   "source": [
    "#by calculationof percentile"
   ]
  },
  {
   "cell_type": "code",
   "execution_count": 577,
   "metadata": {},
   "outputs": [
    {
     "data": {
      "text/plain": [
       "array([ 0.05379211,  0.03014879,  0.01869492, ...,  0.0073571 ,\n",
       "        0.09795149, -0.00067186])"
      ]
     },
     "execution_count": 577,
     "metadata": {},
     "output_type": "execute_result"
    }
   ],
   "source": [
    "up_bound = np.percentile( try_table, 97.5, axis=1)\n",
    "low_bound = np.percentile( try_table, 2.5, axis=1)\n",
    "up_bound "
   ]
  },
  {
   "cell_type": "code",
   "execution_count": 581,
   "metadata": {},
   "outputs": [
    {
     "name": "stdout",
     "output_type": "stream",
     "text": [
      "The number of significant coeffs is = 1865 / 7129\n"
     ]
    }
   ],
   "source": [
    "# ct significant predictors\n",
    "num_c = 0\n",
    "for i in range(df_train_norm_mm[col_mm[1:]].shape[1]):\n",
    "    if up_bound[i]<0 or low_bound[i]>0:\n",
    "        num_c+= 1\n",
    "\n",
    "print(\"The number of significant coeffs is = %i / %i\" % (num_c ,df_train_norm_mm[col_mm[1:]].shape[1]))"
   ]
  },
  {
   "cell_type": "code",
   "execution_count": 825,
   "metadata": {},
   "outputs": [
    {
     "data": {
      "text/plain": [
       "(34, 1)"
      ]
     },
     "execution_count": 825,
     "metadata": {},
     "output_type": "execute_result"
    }
   ],
   "source": [
    "# Let us try to perform log_reg with the chosen predictors.\n",
    "imp_gens_names=important_gens.name.tolist()\n",
    "x_train_imp=df_train_norm_mm[imp_gens_names].values\n",
    "y_train_imp=df_train_norm_mm['Cancer_type'].values.reshape(len(y_train_all),1)\n",
    "x_test_imp=df_test_norm_mm[imp_gens_names].values\n",
    "y_train_imp.shape"
   ]
  },
  {
   "cell_type": "code",
   "execution_count": 819,
   "metadata": {},
   "outputs": [
    {
     "name": "stdout",
     "output_type": "stream",
     "text": [
      "the accuracy of the train prediction with all predictors is: 1.0\n",
      "the accuracy of the test prediction with all predictors is: 0.948717948718\n"
     ]
    },
    {
     "name": "stderr",
     "output_type": "stream",
     "text": [
      "d:\\Users\\Home\\Anaconda3\\lib\\site-packages\\sklearn\\utils\\validation.py:578: DataConversionWarning: A column-vector y was passed when a 1d array was expected. Please change the shape of y to (n_samples, ), for example using ravel().\n",
      "  y = column_or_1d(y, warn=True)\n"
     ]
    }
   ],
   "source": [
    "log_reg_imp = LogisticRegression(C=100000, fit_intercept=False)\n",
    "log_reg_imp.fit(x_train_imp, y_train_imp)\n",
    "log_reg_imp_train_pred = log_reg_imp.predict_proba(x_train_imp)[:,1]\n",
    "log_reg_imp_test_pred  = log_reg_imp.predict_proba(x_test_imp)[:,1]\n",
    "\n",
    "log_train_pred_imp_class=pd.Series(log_reg_imp_train_pred).apply(lambda x:1 if x>0.5 else 0)\n",
    "log_test_pred_imp_class =pd.Series(log_reg_imp_test_pred).apply(lambda x:1 if x>0.5 else 0)\n",
    "\n",
    "print('the accuracy of the train prediction with all predictors is:',accuracy_score(y_train_imp, log_train_pred_imp_class))\n",
    "print('the accuracy of the test prediction with all predictors is:',accuracy_score(Y_norm_mm_test, log_test_pred_imp_class))"
   ]
  },
  {
   "cell_type": "code",
   "execution_count": null,
   "metadata": {
    "collapsed": true
   },
   "outputs": [],
   "source": [
    "# General note: both Logistic regression and PCA are not recommended for this case, the training samples set is very small, \n",
    "#(34 samples), thus the log_reg is not the best choice. The PCA is a bad option since it might not caprute the discriminant \n",
    "#dimension.However, it is possible to make LDA after PCA...."
   ]
  },
  {
   "cell_type": "markdown",
   "metadata": {},
   "source": [
    "## Part (e): Dimensionality Reduction using PCA\n",
    "\n",
    "A reasonable approach to reduce the dimensionality of the data is to use PCA and fit a logistic regression model on the first set of principal components contributing to 90% of the variance in the predictors.\n",
    "\n",
    "1. How do the classification accuracy values on both the training and tests sets compare with the models fitted in Parts (c) and (d)?  \n",
    "\n",
    "2. Re-fit a logistic regression model using 5-fold cross-validation to choose the number of principal components, and comment on whether you get better test performance than the model fitted above (explain your observations). \n",
    "\n",
    "3. Use the code provided in Part (c) to visualize the probabilities predicted by the fitted models on both the training and test sets. How does the spread of probabilities in these plots compare to those for the models in Part (c) and (d)? \n"
   ]
  },
  {
   "cell_type": "code",
   "execution_count": 591,
   "metadata": {},
   "outputs": [
    {
     "data": {
      "text/plain": [
       "array([ 0.18893916,  0.3073883 ,  0.36548155,  0.41383942,  0.45930091,\n",
       "        0.50010267,  0.53259045,  0.56448293,  0.59443451,  0.62108816,\n",
       "        0.64656392,  0.67119947,  0.69505045,  0.71810619,  0.73984841,\n",
       "        0.7598315 ,  0.77861118,  0.79714619,  0.81478413,  0.83200937,\n",
       "        0.84853772,  0.86398847,  0.87870503,  0.89332422,  0.9076768 ,\n",
       "        0.92150368,  0.93438992,  0.94713374,  0.95843735,  0.96965489,\n",
       "        0.98054716,  0.99075779,  1.        ,  1.        ])"
      ]
     },
     "execution_count": 591,
     "metadata": {},
     "output_type": "execute_result"
    }
   ],
   "source": [
    "#-\n",
    "model_PCA = PCA()\n",
    "model_PCA .fit_transform(X_norm_mm)\n",
    "vec=model_PCA.explained_variance_ratio_.cumsum()\n",
    "vec"
   ]
  },
  {
   "cell_type": "code",
   "execution_count": 593,
   "metadata": {},
   "outputs": [
    {
     "name": "stdout",
     "output_type": "stream",
     "text": [
      "24\n"
     ]
    }
   ],
   "source": [
    "c=0\n",
    "for i in range(len(vec)):\n",
    "    if vec[i]<0.9:\n",
    "        c=c+1\n",
    "print(c)        "
   ]
  },
  {
   "cell_type": "code",
   "execution_count": null,
   "metadata": {
    "collapsed": true
   },
   "outputs": [],
   "source": [
    "#first 24 components contribute to 90% of variance"
   ]
  },
  {
   "cell_type": "code",
   "execution_count": 820,
   "metadata": {},
   "outputs": [
    {
     "data": {
      "text/plain": [
       "array([ 0.25396494,  0.38201336,  0.47479353,  0.52361002,  0.56452317,\n",
       "        0.5975771 ,  0.62886272,  0.65741028,  0.68386826,  0.70823813,\n",
       "        0.73143041,  0.75245161,  0.77186287,  0.79024057,  0.80679081,\n",
       "        0.82316937,  0.83834547,  0.85267129,  0.86662591,  0.87976102,\n",
       "        0.89280504,  0.90481687,  0.91661997,  0.9278395 ,  0.9382182 ,\n",
       "        0.94746314,  0.95623709,  0.96460925,  0.97232523,  0.97998962,\n",
       "        0.9872106 ,  0.99382886,  1.        ,  1.        ])"
      ]
     },
     "execution_count": 820,
     "metadata": {},
     "output_type": "execute_result"
    }
   ],
   "source": [
    "#Let us try to work with the most important genes predicted in the previous section\n",
    "model_PCA .fit_transform(x_train_imp)\n",
    "vec1=model_PCA.explained_variance_ratio_.cumsum()\n",
    "vec1\n",
    "# seems 21 components contribute to 90% of variance from the most important genes"
   ]
  },
  {
   "cell_type": "code",
   "execution_count": 848,
   "metadata": {},
   "outputs": [
    {
     "data": {
      "text/plain": [
       "(39, 23)"
      ]
     },
     "execution_count": 848,
     "metadata": {},
     "output_type": "execute_result"
    }
   ],
   "source": [
    "#1.\n",
    "model_PCA_train = PCA(n_components=23)\n",
    "model_PCA_train.fit(X_norm_mm)\n",
    "X_train_pca_1 = model_PCA_train.transform(X_norm_mm)\n",
    "X_test_pca_1 = model_PCA_train.transform(X_norm_mm_test)\n",
    "\n",
    "X_test_pca_1.shape"
   ]
  },
  {
   "cell_type": "code",
   "execution_count": 627,
   "metadata": {},
   "outputs": [
    {
     "name": "stdout",
     "output_type": "stream",
     "text": [
      "log regression PCA train 1.0\n",
      "log regression PCA test 0.923076923077\n"
     ]
    }
   ],
   "source": [
    "log_reg_pca = LogisticRegression(C=100000, fit_intercept=True)\n",
    "log_reg_pca.fit(X_train_pca_1, Y_norm_mm)\n",
    "log_reg_pca_train=log_reg_pca.predict_proba(X_train_pca_1)[:,1]\n",
    "log_reg_pca_test=log_reg_pca.predict_proba(X_test_pca_1)[:,1]\n",
    "\n",
    "log_train_pred_pca_class=pd.Series(log_reg_pca_train).apply(lambda x:1 if x>0.5 else 0)\n",
    "log_test_pred_pca_class =pd.Series(log_reg_pca_test).apply(lambda x:1 if x>0.5 else 0)\n",
    "\n",
    "# accuracy\n",
    "print(\"log regression PCA train\",accuracy_score(y_train_all, log_train_pred_pca_class))\n",
    "print(\"log regression PCA test\",accuracy_score(Y_norm_mm_test, log_test_pred_pca_class))"
   ]
  },
  {
   "cell_type": "code",
   "execution_count": null,
   "metadata": {
    "collapsed": true
   },
   "outputs": [],
   "source": [
    "#This model performing better on the test set than the model in part C\n",
    "#"
   ]
  },
  {
   "cell_type": "code",
   "execution_count": 598,
   "metadata": {
    "collapsed": true
   },
   "outputs": [],
   "source": [
    "n_folds=5\n",
    "kfold = KFold(n_folds)\n",
    "accuracy_train = np.zeros((25,n_folds))\n",
    "accuracy_valid = np.zeros((25,n_folds))"
   ]
  },
  {
   "cell_type": "code",
   "execution_count": 731,
   "metadata": {
    "collapsed": true
   },
   "outputs": [],
   "source": [
    "fold = 0\n",
    "for train, valid in KFold(n_folds, shuffle=True).split(range(34)): # split data into train/test groups,10 times\n",
    "    train_dict, valid_dict = X_norm_mm[train], X_norm_mm[valid]  \n",
    "    y_train_dict, y_valid_dict = Y_norm_mm[train], Y_norm_mm[valid] \n",
    "    \n",
    "    pca = PCA()\n",
    "    pca.fit(train_dict)\n",
    "    train_dict_pca = pca.transform(train_dict)\n",
    "    valid_dict_pca = pca.transform(valid_dict)\n",
    "    \n",
    "    for i in range(1,25):    \n",
    "        est = LogisticRegression(fit_intercept=True)\n",
    "        est.fit(train_dict_pca[:,:i], Y_norm_mm[train]) \n",
    "        train_predict=est.predict(train_dict_pca[:,:i])\n",
    "        valid_predict=est.predict(valid_dict_pca[:,:i])\n",
    "    \n",
    "        accuracy_train[i,fold] = accuracy_score(y_train_dict, train_predict)\n",
    "        accuracy_valid[i,fold] = accuracy_score(y_valid_dict, valid_predict) \n",
    "    fold += 1     "
   ]
  },
  {
   "cell_type": "code",
   "execution_count": 707,
   "metadata": {},
   "outputs": [
    {
     "data": {
      "text/plain": [
       "25"
      ]
     },
     "execution_count": 707,
     "metadata": {},
     "output_type": "execute_result"
    }
   ],
   "source": [
    "accuracy_valid.shape[0]"
   ]
  },
  {
   "cell_type": "code",
   "execution_count": 723,
   "metadata": {
    "collapsed": true
   },
   "outputs": [],
   "source": [
    "def PCA_range(accuracy_train):\n",
    "    mean_=[]\n",
    "    meanSe=[]\n",
    "    mean_Se=[]\n",
    "    for i in range( accuracy_train.shape[0]):\n",
    "        mean_.append(np.mean( accuracy_train[i]))\n",
    "        meanSe.append(np.mean( accuracy_train[i])+np.std(accuracy_train[i]))\n",
    "        mean_Se.append(np.mean( accuracy_train[i])-np.std(accuracy_train[i]))\n",
    "    return mean_,meanSe,mean_Se"
   ]
  },
  {
   "cell_type": "code",
   "execution_count": 724,
   "metadata": {},
   "outputs": [
    {
     "data": {
      "text/plain": [
       "25"
      ]
     },
     "execution_count": 724,
     "metadata": {},
     "output_type": "execute_result"
    }
   ],
   "source": [
    "mean_=[]\n",
    "meanSe=[]\n",
    "mean_Se=[]\n",
    "mean_,meanSe,mean_Se=PCA_range(accuracy_train)\n",
    "len(mean_)"
   ]
  },
  {
   "cell_type": "code",
   "execution_count": 725,
   "metadata": {},
   "outputs": [
    {
     "data": {
      "text/plain": [
       "25"
      ]
     },
     "execution_count": 725,
     "metadata": {},
     "output_type": "execute_result"
    }
   ],
   "source": [
    "mean_v=[]\n",
    "meanSev=[]\n",
    "mean_Sev=[]\n",
    "mean_v,meanSev,mean_Sev=PCA_range(accuracy_valid)\n",
    "len(mean_v)"
   ]
  },
  {
   "cell_type": "code",
   "execution_count": 767,
   "metadata": {
    "collapsed": true
   },
   "outputs": [],
   "source": [
    "x=np.linspace(0,25,25)"
   ]
  },
  {
   "cell_type": "code",
   "execution_count": 746,
   "metadata": {},
   "outputs": [
    {
     "data": {
      "text/plain": [
       "(0.5, 1.1)"
      ]
     },
     "execution_count": 746,
     "metadata": {},
     "output_type": "execute_result"
    },
    {
     "data": {
      "image/png": "[encoded data removed]",
      "text/plain": [
       "<matplotlib.figure.Figure at 0xfd6a0b8>"
      ]
     },
     "metadata": {},
     "output_type": "display_data"
    }
   ],
   "source": [
    "plt.plot(x,mean_,'--',label='train')\n",
    "plt.fill_between(x,mean_Se,meanSe,color='lightpink')\n",
    "\n",
    "plt.plot(x,mean_v,'--',color='green',label='validation')\n",
    "plt.fill_between(x,mean_Sev,meanSev,color='lightgreen')\n",
    "\n",
    "plt.ylabel(\"accuracy\")\n",
    "plt.xlabel(\"num of PCA componenets\")\n",
    "plt.xlim(2,17)\n",
    "plt.ylim(0.5,1.1)"
   ]
  },
  {
   "cell_type": "markdown",
   "metadata": {},
   "source": [
    "---\n",
    " "
   ]
  },
  {
   "cell_type": "code",
   "execution_count": null,
   "metadata": {
    "collapsed": true
   },
   "outputs": [],
   "source": [
    "#it seems that the traininf set accuracy achieves max with 6 > components,while the validation set achieves max accuracy at 7.\n",
    "#let us perform log_reg with 6 pca components on the "
   ]
  },
  {
   "cell_type": "code",
   "execution_count": 776,
   "metadata": {},
   "outputs": [
    {
     "data": {
      "text/plain": [
       "(39, 7)"
      ]
     },
     "execution_count": 776,
     "metadata": {},
     "output_type": "execute_result"
    }
   ],
   "source": [
    "y_train_all.shape\n",
    "Y_norm_mm_test.shape"
   ]
  },
  {
   "cell_type": "code",
   "execution_count": 793,
   "metadata": {},
   "outputs": [
    {
     "name": "stdout",
     "output_type": "stream",
     "text": [
      "log regression PCA train 1.0\n",
      "log regression PCA test 0.641025641026\n"
     ]
    }
   ],
   "source": [
    "pca_test_6 = LogisticRegression(fit_intercept=True)\n",
    "pca_test_6.fit(train_dict_pca[:,:6], y_train_dict) \n",
    "train_predict_6=pca_test_6.predict_proba(train_dict_pca[:,:6])[:,1]\n",
    "test_predict_6=pca_test_6.predict_proba(X_test_pca_1[:,:6] )[:,1]\n",
    "\n",
    "train_predict_6_class=pd.Series(train_predict_6).apply(lambda x:1 if x>0.5 else 0)\n",
    "test_predict_6_class =pd.Series(test_predict_6).apply(lambda x:1 if x>0.5 else 0)\n",
    "\n",
    "# accuracy\n",
    "print(\"log regression PCA train\",accuracy_score(y_train_dict, train_predict_6_class))\n",
    "print(\"log regression PCA test\",accuracy_score(Y_norm_mm_test, test_predict_6_class))"
   ]
  },
  {
   "cell_type": "code",
   "execution_count": 794,
   "metadata": {
    "collapsed": true
   },
   "outputs": [],
   "source": [
    "# slightly better than a random guess.....on the test set."
   ]
  },
  {
   "cell_type": "code",
   "execution_count": 795,
   "metadata": {
    "collapsed": true
   },
   "outputs": [],
   "source": [
    "#3.Use the code provided in Part (c) to visualize the probabilities predicted \n",
    "#  by the fitted models on both the training and test sets. How does the spread of \n",
    "#  probabilities in these plots compare to those for the models in Part (c) and (d)?"
   ]
  },
  {
   "cell_type": "code",
   "execution_count": 859,
   "metadata": {},
   "outputs": [
    {
     "data": {
      "image/png": "[encoded data removed]",
      "text/plain": [
       "<matplotlib.figure.Figure at 0xfd4d588>"
      ]
     },
     "metadata": {},
     "output_type": "display_data"
    }
   ],
   "source": [
    "f, (ax1, ax2) = plt.subplots(1, 2)\n",
    "visualize_prob(pca_test_6, train_dict_pca[:,:6], y_train_dict, ax1)\n",
    "visualize_prob(pca_test_6, X_test_pca_1[:,:6], Y_norm_mm_test, ax2)"
   ]
  },
  {
   "cell_type": "code",
   "execution_count": null,
   "metadata": {
    "collapsed": true
   },
   "outputs": [],
   "source": [
    "#THough we reduced the dimenssion, the performance of the model on the test set is quite poor, no\n",
    "#it is just slightly better than a random guess."
   ]
  },
  {
   "cell_type": "code",
   "execution_count": 849,
   "metadata": {
    "collapsed": true
   },
   "outputs": [],
   "source": [
    "# We will try to perfrom all the above steps for the chosen: most important genes\n",
    "model_PCA_traini = PCA(n_components=23)\n",
    "model_PCA_traini.fit(x_train_imp)\n",
    "X_train_pca_2 = model_PCA_traini.transform(x_train_imp)\n",
    "X_test_pca_2 = model_PCA_traini.transform(x_test_imp)\n"
   ]
  },
  {
   "cell_type": "code",
   "execution_count": 903,
   "metadata": {},
   "outputs": [
    {
     "name": "stderr",
     "output_type": "stream",
     "text": [
      "d:\\Users\\Home\\Anaconda3\\lib\\site-packages\\sklearn\\utils\\validation.py:578: DataConversionWarning: A column-vector y was passed when a 1d array was expected. Please change the shape of y to (n_samples, ), for example using ravel().\n",
      "  y = column_or_1d(y, warn=True)\n"
     ]
    }
   ],
   "source": [
    "accuracy_traini = np.zeros((25,n_folds))\n",
    "accuracy_validi = np.zeros((25,n_folds))\n",
    "fold = 0\n",
    "for train, valid in KFold(n_folds, shuffle=True).split(range(34)): # split data into train/test groups,10 times\n",
    "    train_dicti, valid_dicti = x_train_imp[train], x_train_imp[valid]  \n",
    "    y_train_dicti, y_valid_dicti = y_train_imp[train], y_train_imp[valid] \n",
    "    \n",
    "    pca = PCA()\n",
    "    pca.fit(train_dicti)\n",
    "    train_dict_pcai = pca.transform(train_dicti)\n",
    "    valid_dict_pcai = pca.transform(valid_dicti)\n",
    "    \n",
    "    for i in range(1,25):    \n",
    "        est = LogisticRegression(fit_intercept=True)\n",
    "        est.fit(train_dict_pcai[:,:i], y_train_imp[train]) \n",
    "        train_predicti=est.predict(train_dict_pcai[:,:i])\n",
    "        valid_predicti=est.predict(valid_dict_pcai[:,:i])\n",
    "    \n",
    "        accuracy_traini[i,fold] = accuracy_score(y_train_dicti, train_predicti)\n",
    "        accuracy_validi[i,fold] = accuracy_score(y_valid_dicti, valid_predicti) \n",
    "    fold += 1    "
   ]
  },
  {
   "cell_type": "code",
   "execution_count": 904,
   "metadata": {},
   "outputs": [
    {
     "data": {
      "text/plain": [
       "25"
      ]
     },
     "execution_count": 904,
     "metadata": {},
     "output_type": "execute_result"
    }
   ],
   "source": [
    "imean_=[]\n",
    "imeanSe=[]\n",
    "imean_Se=[]\n",
    "imean_,imeanSe,imean_Se=PCA_range(accuracy_traini)\n",
    "imean_v=[]\n",
    "imeanSev=[]\n",
    "imean_Sev=[]\n",
    "imean_v,imeanSev,imean_Sev=PCA_range(accuracy_validi)\n",
    "len(imean_Se)"
   ]
  },
  {
   "cell_type": "code",
   "execution_count": 905,
   "metadata": {},
   "outputs": [
    {
     "data": {
      "text/plain": [
       "(0.5, 1.1)"
      ]
     },
     "execution_count": 905,
     "metadata": {},
     "output_type": "execute_result"
    },
    {
     "data": {
      "image/png": "[encoded data removed]",
      "text/plain": [
       "<matplotlib.figure.Figure at 0x19ed4cf8>"
      ]
     },
     "metadata": {},
     "output_type": "display_data"
    }
   ],
   "source": [
    "x=np.linspace(0,25,25)\n",
    "plt.plot(x,imean_,'--',label='train')\n",
    "plt.fill_between(x,imean_Se,imeanSe,color='lightpink')\n",
    "\n",
    "plt.plot(x,imean_v,'--',color='green',label='validation')\n",
    "plt.fill_between(x,imean_Sev,imeanSev,color='lightgreen')\n",
    "\n",
    "plt.ylabel(\"accuracy\")\n",
    "plt.xlabel(\"num of PCA componenets\")\n",
    "plt.xlim(0,5)\n",
    "plt.ylim(0.5,1.1)"
   ]
  },
  {
   "cell_type": "code",
   "execution_count": 885,
   "metadata": {
    "collapsed": true
   },
   "outputs": [],
   "source": [
    "#Good performance with even 2 components...., both train and validation"
   ]
  },
  {
   "cell_type": "code",
   "execution_count": 906,
   "metadata": {},
   "outputs": [
    {
     "name": "stdout",
     "output_type": "stream",
     "text": [
      "log regression PCA train 1.0\n",
      "log regression PCA test 0.923076923077\n"
     ]
    },
    {
     "name": "stderr",
     "output_type": "stream",
     "text": [
      "d:\\Users\\Home\\Anaconda3\\lib\\site-packages\\sklearn\\utils\\validation.py:578: DataConversionWarning: A column-vector y was passed when a 1d array was expected. Please change the shape of y to (n_samples, ), for example using ravel().\n",
      "  y = column_or_1d(y, warn=True)\n"
     ]
    }
   ],
   "source": [
    "pca_test_3 = LogisticRegression(fit_intercept=True)\n",
    "pca_test_3.fit(train_dict_pcai[:,:2], y_train_dicti) \n",
    "train_predict_3=pca_test_3.predict_proba(train_dict_pcai[:,:2])[:,1]\n",
    "test_predict_3=pca_test_3.predict_proba(X_test_pca_2[:,:2] )[:,1]\n",
    "\n",
    "train_predict_3_class=pd.Series(train_predict_3).apply(lambda x:1 if x>0.5 else 0)\n",
    "test_predict_3_class =pd.Series(test_predict_3).apply(lambda x:1 if x>0.5 else 0)\n",
    "\n",
    "# accuracy\n",
    "print(\"log regression PCA train\",accuracy_score(y_train_dicti, train_predict_3_class))\n",
    "print(\"log regression PCA test\",accuracy_score(Y_norm_mm_test, test_predict_3_class))"
   ]
  },
  {
   "cell_type": "code",
   "execution_count": 907,
   "metadata": {},
   "outputs": [
    {
     "data": {
      "image/png": "[encoded data removed]",
      "text/plain": [
       "<matplotlib.figure.Figure at 0x19eca7f0>"
      ]
     },
     "metadata": {},
     "output_type": "display_data"
    }
   ],
   "source": [
    "f, (ax1, ax2) = plt.subplots(1, 2)\n",
    "visualize_prob(pca_test_3, X_test_pca_2[:,:2], Y_norm_mm_test, ax2)"
   ]
  },
  {
   "cell_type": "code",
   "execution_count": null,
   "metadata": {
    "collapsed": true
   },
   "outputs": [],
   "source": [
    "# Keeping only the most important 874 genes , and constructing 2 PCA components has good accuracy performance.\n",
    "#All the AML were classified correctly, while the problem was with the ALL clasifier."
   ]
  },
  {
   "cell_type": "markdown",
   "metadata": {},
   "source": [
    "# APCOMP209a - Homework Question"
   ]
  },
  {
   "cell_type": "markdown",
   "metadata": {},
   "source": [
    "Suppose we want to conduct PCA on the model matrix $X \\in \\Re^{n×p}$, where the columns have been suitably set to zero mean. In this question, we consider the squared reconstruction error:\n",
    "\n",
    "$$  \\parallel XQ- XQ_m \\parallel ^2 $$\n",
    "\n",
    "for a suitable set of eigenvectors forming the matrix $Q_m$, as discussed below. Suppose that we conduct eigendecomposition of $X^T X$ and obtain eigenvalues $\\lambda_1, \\ldots , \\lambda_p$ and principal components $Q$, i.e.\n",
    "\n",
    "$$ X^T X = Q \\Lambda Q ^T $$\n",
    "\n",
    "(1) Suppose that the matrix norm is simply the squared dot product, namely\n",
    "\n",
    "$$ \\parallel A \\parallel ^2 = A^T A $$\n",
    "\n",
    "Then, express the reconstruction error as a sum of matrix products.\n",
    "\n",
    "(2) Simplify your result from (1) based on properties of the matrices $Q$.\n",
    "\n",
    "(3) Now let $Q_m$ be the matrix of the first $m < p$ eigenvectors, namely\n",
    "\n",
    "$$ Q_m = (q_1, \\ldots, q_m, 0, \\ldots, 0) \\in \\Re^{p \\times p} $$\n",
    "\n",
    "Thus, $X Q_m$ is the PCA projection of the data into the space spanned by the first $m$ principal components. Express the products $Q^T_m Q$ and $Q^T Q_m$, again using properties of the eigenbasis $q_1, \\ldots, q_p$.\n",
    "\n",
    "(4) Use your results from (3) to finally fully simplify your expression from (2).\n",
    "\n",
    "(5) Note that the result you obtain should still be a matrix, i.e. this does not define a proper norm on the space of matrices (since the value should be a scalar). Consequently, the true matrix norm is actually the trace of the\n",
    "above result, namely\n",
    "\n",
    "$$ \\parallel A \\parallel ^2  = {\\rm trace} (A^T A) $$\n",
    "Use your result from (4) and this new definition to find a simple expression\n",
    "for the reconstruction error in terms of the eigenvalues.\n",
    "\n",
    "(6) Interpret your result from (5). In light of your results, does our procedure for PCA (selecting the $m$ substantially larger eigenvalues) make sense? Why or why not?"
   ]
  },
  {
   "cell_type": "code",
   "execution_count": null,
   "metadata": {
    "collapsed": true
   },
   "outputs": [],
   "source": []
  }
 ],
 "metadata": {
  "anaconda-cloud": {},
  "kernelspec": {
   "display_name": "Python 3",
   "language": "python",
   "name": "python3"
  },
  "language_info": {
   "codemirror_mode": {
    "name": "ipython",
    "version": 3
   },
   "file_extension": ".py",
   "mimetype": "text/x-python",
   "name": "python",
   "nbconvert_exporter": "python",
   "pygments_lexer": "ipython3",
   "version": "3.6.3"
  }
 },
 "nbformat": 4,
 "nbformat_minor": 1
}
